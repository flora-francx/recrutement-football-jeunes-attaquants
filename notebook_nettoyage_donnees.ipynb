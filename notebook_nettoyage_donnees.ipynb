{
 "cells": [
  {
   "cell_type": "markdown",
   "id": "3ecbe2b9",
   "metadata": {},
   "source": [
    "# Projet Data Analyse - Recrutement de jeunes attaquants\n",
    "\n",
    "Ce notebook présente la phase de nettoyage et préparation des données à partir de deux jeux de données :\n",
    "- `all_fifa_players.csv` (provenant de FIFA)\n",
    "- `players.csv` (provenant de Transfermarkt)\n",
    "\n",
    "Objectif : créer une base propre et pertinente pour construire un dashboard Power BI permettant d'identifier des jeunes attaquants (<=21 ans) à fort potentiel et à faible valeur marchande (<= 1000000€)\n"
   ]
  },
  {
   "cell_type": "markdown",
   "id": "ea1c319e",
   "metadata": {},
   "source": [
    "## Étape 1 : Exploration des données"
   ]
  },
  {
   "cell_type": "code",
   "execution_count": 37,
   "id": "4710cc0c",
   "metadata": {},
   "outputs": [
    {
     "name": "stdout",
     "output_type": "stream",
     "text": [
      "Nombre de joueurs FIFA chargés : 37158\n",
      "Nombre de joueurs Transfermarkt chargés : 32601\n"
     ]
    }
   ],
   "source": [
    "import pandas as pd\n",
    "import numpy as np\n",
    "from unidecode import unidecode\n",
    "from datetime import datetime\n",
    "\n",
    "# Chargement des fichiers CSV dans des DataFrames pandas\n",
    "fifa = pd.read_csv('all_fifa_players.csv')\n",
    "transfermarkt = pd.read_csv('players.csv')\n",
    "\n",
    "print(f\"Nombre de joueurs FIFA chargés : {fifa.shape[0]}\")\n",
    "print(f\"Nombre de joueurs Transfermarkt chargés : {transfermarkt.shape[0]}\")\n"
   ]
  },
  {
   "cell_type": "code",
   "execution_count": null,
   "id": "e30e9cb1",
   "metadata": {},
   "outputs": [],
   "source": [
    "fifa.head()"
   ]
  },
  {
   "cell_type": "code",
   "execution_count": null,
   "id": "a01f70be",
   "metadata": {},
   "outputs": [],
   "source": [
    "fifa.info()"
   ]
  },
  {
   "cell_type": "code",
   "execution_count": null,
   "id": "fe15881f",
   "metadata": {},
   "outputs": [],
   "source": [
    "transfermarkt.head()"
   ]
  },
  {
   "cell_type": "code",
   "execution_count": null,
   "id": "dff571c7",
   "metadata": {},
   "outputs": [],
   "source": [
    "transfermarkt.info()"
   ]
  },
  {
   "cell_type": "code",
   "execution_count": null,
   "id": "2ccd87bb",
   "metadata": {},
   "outputs": [],
   "source": [
    "#visualisation des colonnes des deux dataframes\n",
    "print(fifa.columns)\n",
    "print(transfermarkt.columns)"
   ]
  },
  {
   "cell_type": "markdown",
   "id": "b2ce05b4",
   "metadata": {},
   "source": [
    "#### Sélection des colonnes utiles\n",
    "\n",
    "Les datasets contiennent de nombreuses colonnes. On conserve uniquement celles pertinentes pour l'analyse afin d'alléger la mémoire et simplifier le traitement.\n"
   ]
  },
  {
   "cell_type": "code",
   "execution_count": 38,
   "id": "5947c18a",
   "metadata": {},
   "outputs": [],
   "source": [
    "fifa_colonnes_pertinentes = ['Player', 'League', 'Contract End', 'Age', 'Potential Score', \n",
    "                             'Player ID', 'Height', 'Weight', 'Preferred Foot', 'Best Overall', \n",
    "                             'Best Position', 'Value', 'Wage', 'Release Clause', 'Finishing', \n",
    "                             'Heading Accuracy', 'Short Passing', 'Volleys', 'Dribbling', 'Ball Control', \n",
    "                             'Acceleration', 'Sprint Speed', 'Agility', 'Reactions', 'Balance', \n",
    "                             'Shot Power', 'Jumping', 'Stamina', 'Strength', 'Long Shots', 'Aggression',\n",
    "                             'Attack Position', 'Vision', 'Composure', 'Weak Foot', 'Skill Moves'] \n",
    "\n",
    "transfermarkt_colonnes_pertinentes = ['player_id','name', 'date_of_birth','sub_position',\n",
    "'current_club_name', 'market_value_in_eur']\n",
    "\n",
    "# Extraction des colonnes dans des copies indépendantes afin d'éviter d'impacter le dataframe de base\n",
    "fifa_clean = fifa[fifa_colonnes_pertinentes].copy()\n",
    "transfermarkt_clean = transfermarkt[transfermarkt_colonnes_pertinentes].copy()"
   ]
  },
  {
   "cell_type": "markdown",
   "id": "79f81651",
   "metadata": {},
   "source": [
    "## Étape 2 : Nettoyage des données FIFA"
   ]
  },
  {
   "cell_type": "markdown",
   "id": "4668ef45",
   "metadata": {},
   "source": [
    "#### Renommage des colonnes\n",
    "\n",
    "On renomme les colonnes pour :\n",
    "- homogénéiser la nomenclature (snake_case)\n",
    "- clarifier les noms (par ex: en ajoutant des préfixes pour éviter les confusions)\n",
    "- faciliter la manipulation et la lecture du code"
   ]
  },
  {
   "cell_type": "code",
   "execution_count": null,
   "id": "4a372c5f",
   "metadata": {},
   "outputs": [],
   "source": [
    "fifa_clean = fifa_clean.rename(columns={\n",
    "    'Player': 'player_name',\n",
    "    'Player ID': 'fifa_player_id',\n",
    "    'Age': 'age',\n",
    "    'Height': 'height_cm', \n",
    "    'Weight': 'weight_kg',\n",
    "    'League': 'league',\n",
    "    'Best Position': 'fifa_position',\n",
    "    'Potential Score': 'potential_score',\n",
    "    'Best Overall': 'overall_score',\n",
    "    'Preferred Foot': 'preferred_foot',\n",
    "    'Release Clause': 'release_clause',\n",
    "    'Finishing': 'finishing',\n",
    "    'Heading Accuracy': 'heading_accuracy',\n",
    "    'Short Passing': 'short_passing',\n",
    "    'Volleys': 'volleys',\n",
    "    'Dribbling': 'dribbling',\n",
    "    'Ball Control': 'ball_control',\n",
    "    'Acceleration': 'acceleration',\n",
    "    'Sprint Speed': 'sprint_speed',\n",
    "    'Agility': 'agility',\n",
    "    'Reactions': 'reactions',\n",
    "    'Balance': 'balance',\n",
    "    'Shot Power': 'shot_power',\n",
    "    'Jumping': 'jumping',\n",
    "    'Stamina': 'stamina',\n",
    "    'Strength': 'strength',\n",
    "    'Long Shots': 'long_shots',\n",
    "    'Aggression': 'aggression',\n",
    "    'Attack Position': 'attack_position',\n",
    "    'Vision': 'vision',\n",
    "    'Composure': 'composure',\n",
    "    'Weak Foot': 'weak_foot',\n",
    "    'Skill Moves': 'skill_moves',\n",
    "    'Value': 'value', \n",
    "    'Wage': 'wage',\n",
    "    'Contract End': 'contract_end'\n",
    "})\n",
    "\n",
    "transfermarkt_clean = transfermarkt_clean.rename(columns={\n",
    "    'player_id': 'tm_player_id',\n",
    "    'name': 'player_name',\n",
    "    'sub_position': 'tm_position',\n",
    "    'current_club_name': 'club_name',\n",
    "    'market_value_in_eur': 'market_value_eur'\n",
    "})\n",
    "\n",
    "# Affiche les nouvelles colonnes\n",
    "print(\"Nouvelles colonnes FIFA:\", fifa_clean.columns)\n",
    "print(\"Nouvelles colonnes Transfermarkt:\", transfermarkt_clean.columns)"
   ]
  },
  {
   "cell_type": "markdown",
   "id": "fea71d8a",
   "metadata": {},
   "source": [
    "#### Nettoyage des noms des joueurs\n",
    "\n",
    "L'ID (fifa_player_id et tm_player_id) n'est pas une clé de jointure fiable entre les deux datasets car ils proviennent de sources différentes. La clé de jointure principale sera donc le nom du joueur. Pour maximiser les chances de succès de la jointure, il faut nettoyer cette colonne player_name dans les deux dataframes.\n",
    "\n",
    "Afin de faciliter la fusion des deux datasets, on standardise les noms des joueurs en :\n",
    "- minuscules\n",
    "- suppression des accents\n",
    "- suppression des points et tirets\n",
    "\n",
    "Cette étape vise à harmoniser les noms malgré les différences de formatage entre les sources."
   ]
  },
  {
   "cell_type": "code",
   "execution_count": 40,
   "id": "a77e8cea",
   "metadata": {},
   "outputs": [],
   "source": [
    "#fonction pour uniformiser les noms\n",
    "def clean_player_name(name):\n",
    "    if pd.isna(name):\n",
    "        return name\n",
    "    name = unidecode(str(name).strip().lower())\n",
    "    name = name.replace('.', '').replace('-', ' ')\n",
    "    return name\n",
    "\n",
    "fifa_clean['player_name_cleaned'] = fifa_clean['player_name'].apply(clean_player_name)\n",
    "transfermarkt_clean['player_name_cleaned'] = transfermarkt_clean['player_name'].apply(clean_player_name)"
   ]
  },
  {
   "cell_type": "markdown",
   "id": "7edce12d",
   "metadata": {},
   "source": [
    "#### Conversion des valeurs monétaires (FIFA)\n",
    "\n",
    "Les colonnes financières de FIFA contiennent des valeurs sous forme de chaînes avec des suffixes ('M' pour millions, 'K' pour milliers).\n",
    "On convertit ces valeurs en float représentant le montant en euros."
   ]
  },
  {
   "cell_type": "code",
   "execution_count": 41,
   "id": "3f24f5dc",
   "metadata": {},
   "outputs": [],
   "source": [
    "def clean_currency(value):\n",
    "    if pd.isna(value) or value == '':\n",
    "        return None\n",
    "    value = str(value).strip().replace('€', '')\n",
    "    try:\n",
    "        if 'M' in value:\n",
    "            return float(value.replace('M', '')) * 1_000_000\n",
    "        elif 'K' in value:\n",
    "            return float(value.replace('K', '')) * 1_000\n",
    "        else:\n",
    "            return float(value)\n",
    "    except ValueError:\n",
    "        return None\n",
    "\n",
    "fifa_clean['value'] = fifa_clean['value'].apply(clean_currency)\n",
    "fifa_clean['wage'] = fifa_clean['wage'].apply(clean_currency)\n",
    "fifa_clean['release_clause'] = fifa_clean['release_clause'].apply(clean_currency)\n",
    "\n",
    "# on s’assure que cette colonne est bien numérique pour pouvoir faire des calculs\n",
    "transfermarkt_clean['market_value_eur'] = pd.to_numeric(transfermarkt_clean['market_value_eur'], errors='coerce')"
   ]
  },
  {
   "cell_type": "markdown",
   "id": "c8798c08",
   "metadata": {},
   "source": [
    "#### Vérification des types des colonnes financières\n",
    "\n",
    "On s'assure que les colonnes monétaires ont bien été converties en types numériques, nécessaires pour les analyses et calculs."
   ]
  },
  {
   "cell_type": "code",
   "execution_count": null,
   "id": "ec82d98c",
   "metadata": {},
   "outputs": [],
   "source": [
    "print(\"\\nTypes de données des colonnes financières après nettoyage (FIFA):\")\n",
    "print(fifa_clean[['value', 'wage', 'release_clause']].info())\n",
    "print(\"\\nType de données de la colonne financière (Transfermarkt):\")\n",
    "print(transfermarkt_clean['market_value_eur'].info())"
   ]
  },
  {
   "cell_type": "markdown",
   "id": "638e393b",
   "metadata": {},
   "source": [
    "#### Conversion des colonnes dates\n",
    "\n",
    "Pour faciliter les calculs d'âges et de durée des contrats, on convertit les colonnes date en datetime."
   ]
  },
  {
   "cell_type": "code",
   "execution_count": null,
   "id": "db945dae",
   "metadata": {},
   "outputs": [],
   "source": [
    "fifa_clean['contract_end'] = pd.to_datetime(fifa_clean['contract_end'], errors='coerce')\n",
    "transfermarkt_clean['date_of_birth'] = pd.to_datetime(transfermarkt_clean['date_of_birth'], errors='coerce')\n",
    "\n",
    "today = pd.to_datetime(\"today\")\n",
    "transfermarkt_clean['age_calculated'] = (today - transfermarkt_clean['date_of_birth']).dt.days / 365.25\n",
    "\n",
    "print(\"\\nTypes de données des colonnes de date après nettoyage:\")\n",
    "print(fifa_clean['contract_end'].info())\n",
    "print(transfermarkt_clean['date_of_birth'].info())\n",
    "print(transfermarkt_clean['age_calculated'].info())"
   ]
  },
  {
   "cell_type": "markdown",
   "id": "70d28693",
   "metadata": {},
   "source": [
    "#### Aperçu des valeurs manquantes"
   ]
  },
  {
   "cell_type": "code",
   "execution_count": null,
   "id": "52a39e61",
   "metadata": {},
   "outputs": [],
   "source": [
    "fifa_clean.isnull().sum().sort_values(ascending=False)"
   ]
  },
  {
   "cell_type": "code",
   "execution_count": null,
   "id": "064db8a3",
   "metadata": {},
   "outputs": [],
   "source": [
    "transfermarkt_clean.isnull().sum().sort_values(ascending=False)"
   ]
  },
  {
   "cell_type": "markdown",
   "id": "88d1a494",
   "metadata": {},
   "source": [
    "#### Suppression des lignes avec données critiques manquantes (Transfermarkt)\n",
    "\n",
    "Les colonnes position, âge calculé et valeur de marché sont essentielles à la fusion et à l'analyse."
   ]
  },
  {
   "cell_type": "code",
   "execution_count": 43,
   "id": "db1304e9",
   "metadata": {},
   "outputs": [],
   "source": [
    "transfermarkt_clean.dropna(subset=['tm_position', 'age_calculated', 'market_value_eur'], inplace=True)"
   ]
  },
  {
   "cell_type": "markdown",
   "id": "4ad01ca5",
   "metadata": {},
   "source": [
    "#### Extraction des valeurs numériques\n",
    "\n",
    "Certaines colonnes FIFA peuvent contenir des valeurs au format texte. On extrait la partie numérique pour les convertir en int."
   ]
  },
  {
   "cell_type": "code",
   "execution_count": 44,
   "id": "3aa3e572",
   "metadata": {},
   "outputs": [],
   "source": [
    "# fonction d'extraction \n",
    "def extract_numerique(df, columns):\n",
    "    for col in columns:\n",
    "        df[col] = df[col].astype(str).str.extract(r'(\\d+)').astype(float).astype('Int64')\n",
    "    return df\n",
    "\n",
    "cols_to_clean = ['overall_score', 'potential_score', 'finishing',\n",
    "       'heading_accuracy', 'short_passing', 'volleys', 'dribbling',\n",
    "       'ball_control', 'acceleration', 'sprint_speed', 'agility', 'reactions',\n",
    "       'balance', 'shot_power', 'jumping', 'stamina', 'strength', 'long_shots',\n",
    "       'aggression', 'attack_position', 'vision', 'composure', 'height_cm', 'weight_kg']\n",
    "fifa_clean = extract_numerique(fifa_clean, cols_to_clean)"
   ]
  },
  {
   "cell_type": "markdown",
   "id": "747feb57",
   "metadata": {},
   "source": [
    "#### Suppression de la colonne 'player_name' originale qui n'est plus utile"
   ]
  },
  {
   "cell_type": "code",
   "execution_count": null,
   "id": "04dc9984",
   "metadata": {},
   "outputs": [],
   "source": [
    "fifa_clean.drop('player_name', axis=1, inplace=True)\n",
    "transfermarkt_clean.drop('player_name', axis=1, inplace=True)\n",
    "\n",
    "print(\"Colonnes restantes FIFA:\", fifa_clean.columns)\n",
    "print(\"Colonnes restantes Transfermarkt:\", transfermarkt_clean.columns)"
   ]
  },
  {
   "cell_type": "markdown",
   "id": "b131423e",
   "metadata": {},
   "source": [
    "#### Suppression des doublons en gardant la première occurrence de chaque 'fifa_player_id' "
   ]
  },
  {
   "cell_type": "code",
   "execution_count": null,
   "id": "48710d5a",
   "metadata": {},
   "outputs": [],
   "source": [
    "fifa_clean.drop_duplicates(subset=['fifa_player_id'], keep='first', inplace=True)\n",
    "print(\"Nombre de lignes après suppression des doublons (basé sur fifa_player_id) dans FIFA:\", fifa_clean.shape[0])\n",
    "\n",
    "# Vérifier les doublons dans Transfermarkt également, basés sur 'tm_player_id'\n",
    "print(\"\\nNombre de lignes avant suppression des doublons dans Transfermarkt:\", transfermarkt_clean.shape[0])\n",
    "print(\"Nombre de doublons basés sur 'tm_player_id':\", transfermarkt_clean.duplicated(subset=['tm_player_id']).sum())\n",
    "\n",
    "# Supprimer les doublons basés sur 'tm_player_id' dans Transfermarkt\n",
    "transfermarkt_clean.drop_duplicates(subset=['tm_player_id'], keep='first', inplace=True)\n",
    "print(\"Nombre de lignes après suppression des doublons (basé sur tm_player_id) dans Transfermarkt:\", transfermarkt_clean.shape[0])"
   ]
  },
  {
   "cell_type": "markdown",
   "id": "81be9dab",
   "metadata": {},
   "source": [
    "## Étape 3 : Fusion des données FIFA et Transfermarkt"
   ]
  },
  {
   "cell_type": "code",
   "execution_count": 47,
   "id": "b070805e",
   "metadata": {},
   "outputs": [
    {
     "name": "stdout",
     "output_type": "stream",
     "text": [
      "Taille du dataset fusionné : (7329, 42)\n"
     ]
    },
    {
     "data": {
      "text/html": [
       "<div>\n",
       "<style scoped>\n",
       "    .dataframe tbody tr th:only-of-type {\n",
       "        vertical-align: middle;\n",
       "    }\n",
       "\n",
       "    .dataframe tbody tr th {\n",
       "        vertical-align: top;\n",
       "    }\n",
       "\n",
       "    .dataframe thead th {\n",
       "        text-align: right;\n",
       "    }\n",
       "</style>\n",
       "<table border=\"1\" class=\"dataframe\">\n",
       "  <thead>\n",
       "    <tr style=\"text-align: right;\">\n",
       "      <th></th>\n",
       "      <th>league</th>\n",
       "      <th>contract_end</th>\n",
       "      <th>age</th>\n",
       "      <th>potential_score</th>\n",
       "      <th>fifa_player_id</th>\n",
       "      <th>height_cm</th>\n",
       "      <th>weight_kg</th>\n",
       "      <th>preferred_foot</th>\n",
       "      <th>overall_score</th>\n",
       "      <th>fifa_position</th>\n",
       "      <th>...</th>\n",
       "      <th>composure</th>\n",
       "      <th>weak_foot</th>\n",
       "      <th>skill_moves</th>\n",
       "      <th>player_name_cleaned</th>\n",
       "      <th>tm_player_id</th>\n",
       "      <th>date_of_birth</th>\n",
       "      <th>tm_position</th>\n",
       "      <th>club_name</th>\n",
       "      <th>market_value_eur</th>\n",
       "      <th>age_calculated</th>\n",
       "    </tr>\n",
       "  </thead>\n",
       "  <tbody>\n",
       "    <tr>\n",
       "      <th>0</th>\n",
       "      <td>1. Division (Cyprus)</td>\n",
       "      <td>2027-01-01</td>\n",
       "      <td>34</td>\n",
       "      <td>73</td>\n",
       "      <td>193336</td>\n",
       "      <td>193</td>\n",
       "      <td>84</td>\n",
       "      <td>Right</td>\n",
       "      <td>73</td>\n",
       "      <td>GK</td>\n",
       "      <td>...</td>\n",
       "      <td>70</td>\n",
       "      <td>3</td>\n",
       "      <td>1</td>\n",
       "      <td>vid belec</td>\n",
       "      <td>73090</td>\n",
       "      <td>1990-06-06</td>\n",
       "      <td>Goalkeeper</td>\n",
       "      <td>US Salernitana 1919</td>\n",
       "      <td>500000.0</td>\n",
       "      <td>35.019849</td>\n",
       "    </tr>\n",
       "    <tr>\n",
       "      <th>1</th>\n",
       "      <td>1. Division (Cyprus)</td>\n",
       "      <td>2026-01-01</td>\n",
       "      <td>37</td>\n",
       "      <td>73</td>\n",
       "      <td>194209</td>\n",
       "      <td>182</td>\n",
       "      <td>84</td>\n",
       "      <td>Right</td>\n",
       "      <td>73</td>\n",
       "      <td>ST</td>\n",
       "      <td>...</td>\n",
       "      <td>69</td>\n",
       "      <td>4</td>\n",
       "      <td>3</td>\n",
       "      <td>youssef el arabi</td>\n",
       "      <td>96533</td>\n",
       "      <td>1987-02-03</td>\n",
       "      <td>Centre-Forward</td>\n",
       "      <td>Olympiakos Syndesmos Filathlon Peiraios</td>\n",
       "      <td>300000.0</td>\n",
       "      <td>38.357290</td>\n",
       "    </tr>\n",
       "    <tr>\n",
       "      <th>2</th>\n",
       "      <td>1. Division (Cyprus)</td>\n",
       "      <td>2026-01-01</td>\n",
       "      <td>28</td>\n",
       "      <td>72</td>\n",
       "      <td>212150</td>\n",
       "      <td>173</td>\n",
       "      <td>68</td>\n",
       "      <td>Right</td>\n",
       "      <td>72</td>\n",
       "      <td>CAM</td>\n",
       "      <td>...</td>\n",
       "      <td>77</td>\n",
       "      <td>4</td>\n",
       "      <td>4</td>\n",
       "      <td>max meyer</td>\n",
       "      <td>146164</td>\n",
       "      <td>1995-09-18</td>\n",
       "      <td>Attacking Midfield</td>\n",
       "      <td>Fenerbahçe Spor Kulübü</td>\n",
       "      <td>3000000.0</td>\n",
       "      <td>29.735797</td>\n",
       "    </tr>\n",
       "  </tbody>\n",
       "</table>\n",
       "<p>3 rows × 42 columns</p>\n",
       "</div>"
      ],
      "text/plain": [
       "                 league contract_end  age  potential_score  fifa_player_id  \\\n",
       "0  1. Division (Cyprus)   2027-01-01   34               73          193336   \n",
       "1  1. Division (Cyprus)   2026-01-01   37               73          194209   \n",
       "2  1. Division (Cyprus)   2026-01-01   28               72          212150   \n",
       "\n",
       "   height_cm  weight_kg preferred_foot  overall_score fifa_position  ...  \\\n",
       "0        193         84          Right             73            GK  ...   \n",
       "1        182         84          Right             73            ST  ...   \n",
       "2        173         68          Right             72           CAM  ...   \n",
       "\n",
       "   composure  weak_foot  skill_moves  player_name_cleaned  tm_player_id  \\\n",
       "0         70          3            1            vid belec         73090   \n",
       "1         69          4            3     youssef el arabi         96533   \n",
       "2         77          4            4            max meyer        146164   \n",
       "\n",
       "   date_of_birth         tm_position                                club_name  \\\n",
       "0     1990-06-06          Goalkeeper                      US Salernitana 1919   \n",
       "1     1987-02-03      Centre-Forward  Olympiakos Syndesmos Filathlon Peiraios   \n",
       "2     1995-09-18  Attacking Midfield                   Fenerbahçe Spor Kulübü   \n",
       "\n",
       "   market_value_eur  age_calculated  \n",
       "0          500000.0       35.019849  \n",
       "1          300000.0       38.357290  \n",
       "2         3000000.0       29.735797  \n",
       "\n",
       "[3 rows x 42 columns]"
      ]
     },
     "execution_count": 47,
     "metadata": {},
     "output_type": "execute_result"
    }
   ],
   "source": [
    "merged_df = pd.merge(fifa_clean, transfermarkt_clean, how='inner', on='player_name_cleaned', suffixes=('_fifa', '_tm'))\n",
    "print(\"Taille du dataset fusionné :\", merged_df.shape)\n",
    "merged_df.head(3)"
   ]
  },
  {
   "cell_type": "markdown",
   "id": "d85da667",
   "metadata": {},
   "source": [
    "#### Suppression des lignes avec données critiques manquantes\n",
    "\n",
    "La colonne market_value_eur est essentielle à la fusion et à l'analyse. On ne garde donc que les joueurs qui ont une valeur marchande."
   ]
  },
  {
   "cell_type": "code",
   "execution_count": 50,
   "id": "20bb0070",
   "metadata": {},
   "outputs": [
    {
     "name": "stdout",
     "output_type": "stream",
     "text": [
      "Nombre de joueurs dans le DataFrame final (avec valeurs marchandes): 7329\n",
      "\n",
      "Quelques premières lignes du DataFrame final :\n",
      "                 league contract_end  age  potential_score  fifa_player_id  \\\n",
      "0  1. Division (Cyprus)   2027-01-01   34               73          193336   \n",
      "1  1. Division (Cyprus)   2026-01-01   37               73          194209   \n",
      "2  1. Division (Cyprus)   2026-01-01   28               72          212150   \n",
      "3  1. Division (Cyprus)   2025-01-01   29               71          227766   \n",
      "4  1. Division (Cyprus)   2027-01-01   31               71          234774   \n",
      "\n",
      "   height_cm  weight_kg preferred_foot  overall_score fifa_position  ...  \\\n",
      "0        193         84          Right             73            GK  ...   \n",
      "1        182         84          Right             73            ST  ...   \n",
      "2        173         68          Right             72           CAM  ...   \n",
      "3        191         80           Left             71            CB  ...   \n",
      "4        186         82           Left             71            CB  ...   \n",
      "\n",
      "   composure  weak_foot  skill_moves  player_name_cleaned  tm_player_id  \\\n",
      "0         70          3            1            vid belec         73090   \n",
      "1         69          4            3     youssef el arabi         96533   \n",
      "2         77          4            4            max meyer        146164   \n",
      "3         54          3            2          lasha dvali        222332   \n",
      "4         71          3            2  konstantinos laifis        121570   \n",
      "\n",
      "   date_of_birth         tm_position                                club_name  \\\n",
      "0     1990-06-06          Goalkeeper                      US Salernitana 1919   \n",
      "1     1987-02-03      Centre-Forward  Olympiakos Syndesmos Filathlon Peiraios   \n",
      "2     1995-09-18  Attacking Midfield                   Fenerbahçe Spor Kulübü   \n",
      "3     1995-05-14         Centre-Back                    Kasımpaşa Spor Kulübü   \n",
      "4     1993-05-19         Centre-Back             Royal Standard Club de Liège   \n",
      "\n",
      "   market_value_eur  age_calculated  \n",
      "0          500000.0       35.019849  \n",
      "1          300000.0       38.357290  \n",
      "2         3000000.0       29.735797  \n",
      "3          600000.0       30.083504  \n",
      "4         1500000.0       32.068446  \n",
      "\n",
      "[5 rows x 42 columns]\n"
     ]
    }
   ],
   "source": [
    "df_final = merged_df.dropna(subset=['market_value_eur']).copy()\n",
    "\n",
    "print(f\"Nombre de joueurs dans le DataFrame final (avec valeurs marchandes): {df_final.shape[0]}\")\n",
    "print(\"\\nQuelques premières lignes du DataFrame final :\")\n",
    "print(df_final.head())"
   ]
  },
  {
   "cell_type": "markdown",
   "id": "b0537d45",
   "metadata": {},
   "source": [
    "#### Reorganisation des colonnes du dataframe final"
   ]
  },
  {
   "cell_type": "code",
   "execution_count": null,
   "id": "74687010",
   "metadata": {},
   "outputs": [],
   "source": [
    "df_final = df_final[['player_name_cleaned', 'date_of_birth', 'age', 'age_calculated', 'height_cm', 'weight_kg', 'preferred_foot',\n",
    "    'fifa_player_id', 'tm_player_id','fifa_position', 'tm_position','club_name', 'league', 'contract_end',\n",
    "    'market_value_eur', 'value', 'wage', 'release_clause','overall_score', 'potential_score','finishing', \n",
    "    'heading_accuracy', 'short_passing', 'volleys', 'long_shots', 'shot_power',\n",
    "    'dribbling', 'ball_control', 'vision', 'composure','acceleration', 'sprint_speed', 'agility', 'reactions', \n",
    "    'balance', 'jumping', 'stamina', 'strength','attack_position', 'aggression',\n",
    "    'weak_foot']]"
   ]
  },
  {
   "cell_type": "markdown",
   "id": "b01922c9",
   "metadata": {},
   "source": [
    "## Etape 4 : Export en fichier csv \n",
    "\n",
    "Fichier nettoyé prêt à être utilisé dans Power BI"
   ]
  },
  {
   "cell_type": "code",
   "execution_count": 51,
   "id": "01ac044d",
   "metadata": {},
   "outputs": [
    {
     "name": "stdout",
     "output_type": "stream",
     "text": [
      "\n",
      "DataFrame final exporté vers 'players_data_cleaned_for_powerbi.csv'\n"
     ]
    }
   ],
   "source": [
    "df_final.to_csv('players_data_cleaned_for_powerbi.csv', index=False)\n",
    "print(\"\\nDataFrame final exporté vers 'players_data_cleaned_for_powerbi.csv'\")"
   ]
  }
 ],
 "metadata": {
  "kernelspec": {
   "display_name": "Python 3",
   "language": "python",
   "name": "python3"
  },
  "language_info": {
   "codemirror_mode": {
    "name": "ipython",
    "version": 3
   },
   "file_extension": ".py",
   "mimetype": "text/x-python",
   "name": "python",
   "nbconvert_exporter": "python",
   "pygments_lexer": "ipython3",
   "version": "3.13.3"
  }
 },
 "nbformat": 4,
 "nbformat_minor": 5
}
